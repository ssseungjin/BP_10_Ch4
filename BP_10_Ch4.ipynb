{
  "nbformat": 4,
  "nbformat_minor": 0,
  "metadata": {
    "colab": {
      "provenance": [],
      "authorship_tag": "ABX9TyP7pwad9bgVhUKrzpUbSKc9",
      "include_colab_link": true
    },
    "kernelspec": {
      "name": "python3",
      "display_name": "Python 3"
    },
    "language_info": {
      "name": "python"
    }
  },
  "cells": [
    {
      "cell_type": "markdown",
      "metadata": {
        "id": "view-in-github",
        "colab_type": "text"
      },
      "source": [
        "<a href=\"https://colab.research.google.com/github/ssseungjin/BP_10_Ch4/blob/main/BP_10_Ch4.ipynb\" target=\"_parent\"><img src=\"https://colab.research.google.com/assets/colab-badge.svg\" alt=\"Open In Colab\"/></a>"
      ]
    },
    {
      "cell_type": "code",
      "execution_count": 1,
      "metadata": {
        "colab": {
          "base_uri": "https://localhost:8080/"
        },
        "id": "yc_a1eIRm7z0",
        "outputId": "00b7d17d-a248-4590-faf7-4f9721254ea0"
      },
      "outputs": [
        {
          "output_type": "stream",
          "name": "stdout",
          "text": [
            "나는 12개의 사과를 먹었다.\n"
          ]
        }
      ],
      "source": [
        "'나는 ' + str(12) + '개의 사과를 먹었다.'\n",
        "print('나는 ' + '12' + '개의 사과를 먹었다.')"
      ]
    },
    {
      "cell_type": "code",
      "source": [
        "\"apple\" + \"grape\"\n",
        "\n",
        "\"apple\" * 3"
      ],
      "metadata": {
        "colab": {
          "base_uri": "https://localhost:8080/",
          "height": 35
        },
        "id": "tt25CMk4nFSn",
        "outputId": "141a9ea9-f238-496c-9f3c-02c997de9ebf"
      },
      "execution_count": 2,
      "outputs": [
        {
          "output_type": "execute_result",
          "data": {
            "text/plain": [
              "'appleappleapple'"
            ],
            "application/vnd.google.colaboratory.intrinsic+json": {
              "type": "string"
            }
          },
          "metadata": {},
          "execution_count": 2
        }
      ]
    },
    {
      "cell_type": "code",
      "source": [
        "text=input(\"문자열을 입력하시오 : \")\n",
        "print(text[0:2]+text[-2:])"
      ],
      "metadata": {
        "colab": {
          "base_uri": "https://localhost:8080/"
        },
        "id": "l4xWozTwnG4b",
        "outputId": "8e445786-66e8-48c7-c738-ce098285c573"
      },
      "execution_count": 4,
      "outputs": [
        {
          "output_type": "stream",
          "name": "stdout",
          "text": [
            "문자열을 입력하시오 : python\n",
            "pyon\n"
          ]
        }
      ]
    },
    {
      "cell_type": "code",
      "source": [
        "text=input(\"문자열을 입력하시오 : \")\n",
        "text2=\"하는 중\"\n",
        "print(text+text2)"
      ],
      "metadata": {
        "colab": {
          "base_uri": "https://localhost:8080/"
        },
        "id": "rd1MX7Q5nWMJ",
        "outputId": "7be6afe5-2089-45ae-bffb-aa98c1abdcba"
      },
      "execution_count": 5,
      "outputs": [
        {
          "output_type": "stream",
          "name": "stdout",
          "text": [
            "문자열을 입력하시오 : 청소\n",
            "청소하는 중\n"
          ]
        }
      ]
    },
    {
      "cell_type": "code",
      "source": [
        "simbol =input(\"기호를 입력하세요 : \")\n",
        "text =input(\"문자열을 입력하시오 : \")\n",
        " \n",
        "print(simbol[:1]+text+simbol[-1:])"
      ],
      "metadata": {
        "colab": {
          "base_uri": "https://localhost:8080/"
        },
        "id": "86JgBipxnkz3",
        "outputId": "aad92f57-eb63-4951-a9be-e05fd300eb42"
      },
      "execution_count": 6,
      "outputs": [
        {
          "output_type": "stream",
          "name": "stdout",
          "text": [
            "기호를 입력하세요 : []\n",
            "문자열을 입력하시오 : python\n",
            "[python]\n"
          ]
        }
      ]
    },
    {
      "cell_type": "code",
      "source": [
        "listNum =[\"1\", \"2\", \"3\", \"4\"]\n",
        "sum= int(listNum[0]) + int(listNum[1]) + int(listNum[2]) + int(listNum[3])\n",
        " \n",
        "print(\"리스트 = \", listNum)\n",
        "print(\"리스트 숫자들의 합 = \", sum)"
      ],
      "metadata": {
        "colab": {
          "base_uri": "https://localhost:8080/"
        },
        "id": "OafpP5Xlnwd5",
        "outputId": "3ddb3e65-8f6a-4105-813d-41c3c6ec2487"
      },
      "execution_count": 7,
      "outputs": [
        {
          "output_type": "stream",
          "name": "stdout",
          "text": [
            "리스트 =  ['1', '2', '3', '4']\n",
            "리스트 숫자들의 합 =  10\n"
          ]
        }
      ]
    },
    {
      "cell_type": "code",
      "source": [],
      "metadata": {
        "id": "dLgpBJBXnzIz"
      },
      "execution_count": null,
      "outputs": []
    }
  ]
}